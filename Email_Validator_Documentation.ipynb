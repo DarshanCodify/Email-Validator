{
  "nbformat": 4,
  "nbformat_minor": 0,
  "metadata": {
    "colab": {
      "provenance": [],
      "authorship_tag": "ABX9TyMdcjXQikYYBG65oNrmed3d",
      "include_colab_link": true
    },
    "kernelspec": {
      "name": "python3",
      "display_name": "Python 3"
    },
    "language_info": {
      "name": "python"
    }
  },
  "cells": [
    {
      "cell_type": "markdown",
      "metadata": {
        "id": "view-in-github",
        "colab_type": "text"
      },
      "source": [
        "<a href=\"https://colab.research.google.com/github/DarshanCodify/Email-Validator/blob/main/Email_Validator_Documentation.ipynb\" target=\"_parent\"><img src=\"https://colab.research.google.com/assets/colab-badge.svg\" alt=\"Open In Colab\"/></a>"
      ]
    },
    {
      "cell_type": "code",
      "execution_count": null,
      "metadata": {
        "colab": {
          "base_uri": "https://localhost:8080/"
        },
        "id": "zkYVZZ2xNVCt",
        "outputId": "aad362c8-8bf9-4312-fcd9-c34f940df2d1"
      },
      "outputs": [
        {
          "output_type": "stream",
          "name": "stdout",
          "text": [
            "Please enter your email address: darsh@gamil.com\n",
            "Valid email address.\n",
            "Please enter your email address: email@123.123\n",
            "Invalid email address. Please try again.\n",
            "Please enter your email address: email.@example.com\n",
            "Valid email address.\n",
            "Please enter your email address: .email@example.com\n",
            "Invalid email address. Please try again.\n",
            "Please enter your email address: firstname+lastname@example.com\n",
            "Invalid email address. Please try again.\n"
          ]
        }
      ],
      "source": [
        "import re\n",
        "\n",
        "def is_valid_email(email):\n",
        "    # Regular expression pattern for validating email addresses\n",
        "    pattern = r'^[a-zA-Z0-9]+[\\w\\.-]*@[a-zA-Z0-9]+\\.[a-zA-Z]{2,}$'\n",
        "    if re.match(pattern, email):\n",
        "        return True\n",
        "    else:\n",
        "        return False\n",
        "\n",
        "def main():\n",
        "    while True:\n",
        "        email = input(\"Please enter your email address: \")\n",
        "        if email.lower() == 'quit':\n",
        "            break\n",
        "        if is_valid_email(email):\n",
        "            print(\"Valid email address.\")\n",
        "        else:\n",
        "            print(\"Invalid email address. Please try again.\")\n",
        "\n",
        "if __name__ == \"__main__\":\n",
        "    main()"
      ]
    }
  ]
}